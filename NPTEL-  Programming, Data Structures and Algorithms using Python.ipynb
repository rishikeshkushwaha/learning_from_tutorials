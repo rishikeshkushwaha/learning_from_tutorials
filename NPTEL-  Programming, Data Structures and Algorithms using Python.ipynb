{
 "cells": [
  {
   "cell_type": "markdown",
   "metadata": {},
   "source": [
    "Programming Assignment 2"
   ]
  },
  {
   "cell_type": "code",
   "execution_count": 1,
   "metadata": {
    "collapsed": true
   },
   "outputs": [],
   "source": [
    "def intreverse(l):\n",
    "    reverse = 0\n",
    "    while l is not  0 :\n",
    "        reverse = reverse * 10\n",
    "        reverse = reverse + int(l %10)\n",
    "        l = int(l / 10)\n",
    "        #print(reverse)\n",
    "    return reverse\n",
    "\n",
    "\n",
    "def matched(s):\n",
    "    t = 0\n",
    "    for c in s:\n",
    "        if c == ')':\n",
    "            t -= 1\n",
    "            if t < 0:\n",
    "                return False\n",
    "        elif c == '(':\n",
    "            t += 1\n",
    "    if t == 0:\n",
    "        return True\n",
    "    else :\n",
    "        return False\n",
    "      \n",
    "\n",
    "def sumprimes(p):\n",
    "    s = 0\n",
    "    for i in p:\n",
    "        if isPrime(i):\n",
    "            s +=i\n",
    "    return s\n",
    "\n",
    "def isPrime(q):\n",
    "    if q < 2 :\n",
    "        return False\n",
    "    elif q ==2:\n",
    "        return True\n",
    "    else:\n",
    "        flag = True\n",
    "        for j in range(2, q):\n",
    "            if (q % j) == 0:\n",
    "                flag =False\n",
    "        return flag"
   ]
  },
  {
   "cell_type": "raw",
   "metadata": {},
   "source": [
    "Programming Assignment 3"
   ]
  },
  {
   "cell_type": "code",
   "execution_count": 20,
   "metadata": {
    "collapsed": false
   },
   "outputs": [],
   "source": [
    "def descending(l):\n",
    "    if len(l)==0:\n",
    "        return True\n",
    "    else:\n",
    "        f = l[0]\n",
    "        for i in l[1:]:\n",
    "            if f>i:\n",
    "                return False\n",
    "            else:\n",
    "                return True\n",
    "            break"
   ]
  },
  {
   "cell_type": "code",
   "execution_count": 21,
   "metadata": {
    "collapsed": false
   },
   "outputs": [
    {
     "data": {
      "text/plain": [
       "True"
      ]
     },
     "execution_count": 21,
     "metadata": {},
     "output_type": "execute_result"
    }
   ],
   "source": [
    "descending([])"
   ]
  },
  {
   "cell_type": "code",
   "execution_count": 22,
   "metadata": {
    "collapsed": false
   },
   "outputs": [
    {
     "data": {
      "text/plain": [
       "True"
      ]
     },
     "execution_count": 22,
     "metadata": {},
     "output_type": "execute_result"
    }
   ],
   "source": [
    "descending([4,4,3])"
   ]
  },
  {
   "cell_type": "code",
   "execution_count": 23,
   "metadata": {
    "collapsed": false
   },
   "outputs": [
    {
     "data": {
      "text/plain": [
       "False"
      ]
     },
     "execution_count": 23,
     "metadata": {},
     "output_type": "execute_result"
    }
   ],
   "source": [
    "descending([19,17,18,7])"
   ]
  },
  {
   "cell_type": "code",
   "execution_count": 5,
   "metadata": {
    "collapsed": true
   },
   "outputs": [],
   "source": [
    "def alternating(l):\n",
    "    for i in range(len(l)-2):\n",
    "        if (l[i] < l[i+1]) and (l[i+1] < l[i+2]):\n",
    "            return False\n",
    "        if (l[i] > l[i+1]) and (l[i+1] > l[i+2]):\n",
    "            return False\n",
    "        if (l[i] == l[i+1]) or (l[i+1] == l[i+2]):\n",
    "            return False\n",
    "    return True"
   ]
  },
  {
   "cell_type": "code",
   "execution_count": 6,
   "metadata": {
    "collapsed": false
   },
   "outputs": [
    {
     "data": {
      "text/plain": [
       "True"
      ]
     },
     "execution_count": 6,
     "metadata": {},
     "output_type": "execute_result"
    }
   ],
   "source": [
    "alternating([1,3,2,3,1,5])"
   ]
  },
  {
   "cell_type": "code",
   "execution_count": 7,
   "metadata": {
    "collapsed": false
   },
   "outputs": [
    {
     "data": {
      "text/plain": [
       "False"
      ]
     },
     "execution_count": 7,
     "metadata": {},
     "output_type": "execute_result"
    }
   ],
   "source": [
    "alternating([3,2,2,1,5])"
   ]
  },
  {
   "cell_type": "code",
   "execution_count": 8,
   "metadata": {
    "collapsed": false
   },
   "outputs": [
    {
     "data": {
      "text/plain": [
       "True"
      ]
     },
     "execution_count": 8,
     "metadata": {},
     "output_type": "execute_result"
    }
   ],
   "source": [
    "alternating([3,2,3,1,5])"
   ]
  },
  {
   "cell_type": "code",
   "execution_count": 9,
   "metadata": {
    "collapsed": false
   },
   "outputs": [
    {
     "data": {
      "text/plain": [
       "False"
      ]
     },
     "execution_count": 9,
     "metadata": {},
     "output_type": "execute_result"
    }
   ],
   "source": [
    "alternating([3,2,1,3,5])"
   ]
  },
  {
   "cell_type": "code",
   "execution_count": 10,
   "metadata": {
    "collapsed": false
   },
   "outputs": [],
   "source": [
    "def matmult(X,Y):\n",
    "    cols, rows = len(Y[0]), len(Y)\n",
    "    resRows = range(len(X))\n",
    "    result = [[0] * cols for i in resRows]\n",
    "    for i in range(len(X)):\n",
    "   # iterate through columns of Y\n",
    "       for j in range(len(Y[0])):\n",
    "       # iterate through rows of Y\n",
    "           for k in range(len(Y)):\n",
    "               result[i][j] += X[i][k] * Y[k][j]\n",
    "    return result"
   ]
  },
  {
   "cell_type": "code",
   "execution_count": 11,
   "metadata": {
    "collapsed": false
   },
   "outputs": [
    {
     "data": {
      "text/plain": [
       "[[1, 2], [3, 4]]"
      ]
     },
     "execution_count": 11,
     "metadata": {},
     "output_type": "execute_result"
    }
   ],
   "source": [
    "matmult([[1,2],[3,4]],[[1,0],[0,1]])"
   ]
  },
  {
   "cell_type": "markdown",
   "metadata": {},
   "source": [
    "Quiz 4 solution"
   ]
  },
  {
   "cell_type": "code",
   "execution_count": 54,
   "metadata": {
    "collapsed": false
   },
   "outputs": [
    {
     "data": {
      "text/plain": [
       "[5]"
      ]
     },
     "execution_count": 54,
     "metadata": {},
     "output_type": "execute_result"
    }
   ],
   "source": [
    "x = [1,2,3,4,5]\n",
    "x[-1:]"
   ]
  },
  {
   "cell_type": "code",
   "execution_count": 56,
   "metadata": {
    "collapsed": false
   },
   "outputs": [
    {
     "data": {
      "text/plain": [
       "[1, 2, 3, 4]"
      ]
     },
     "execution_count": 56,
     "metadata": {},
     "output_type": "execute_result"
    }
   ],
   "source": [
    "x[:-1]"
   ]
  },
  {
   "cell_type": "code",
   "execution_count": 60,
   "metadata": {
    "collapsed": false
   },
   "outputs": [
    {
     "data": {
      "text/plain": [
       "[5, 1, 2, 3, 4]"
      ]
     },
     "execution_count": 60,
     "metadata": {},
     "output_type": "execute_result"
    }
   ],
   "source": [
    "y=x[-1:] + x[:-1]\n",
    "y"
   ]
  },
  {
   "cell_type": "code",
   "execution_count": 61,
   "metadata": {
    "collapsed": true
   },
   "outputs": [],
   "source": [
    "def mystery(l):\n",
    "   if l == []:\n",
    "      return (l)\n",
    "   else:\n",
    "      return (l[-1:] + mystery(l[:-1]))"
   ]
  },
  {
   "cell_type": "code",
   "execution_count": 62,
   "metadata": {
    "collapsed": false
   },
   "outputs": [
    {
     "data": {
      "text/plain": [
       "[5, 8, 7, 2, 3]"
      ]
     },
     "execution_count": 62,
     "metadata": {},
     "output_type": "execute_result"
    }
   ],
   "source": [
    "mystery([3,2,7,8,5])"
   ]
  },
  {
   "cell_type": "code",
   "execution_count": 63,
   "metadata": {
    "collapsed": false
   },
   "outputs": [
    {
     "data": {
      "text/plain": [
       "[(0, 1), (1, 0), (1, 2), (2, 1), (3, 0), (3, 2)]"
      ]
     },
     "execution_count": 63,
     "metadata": {},
     "output_type": "execute_result"
    }
   ],
   "source": [
    "pairs = [ (x,y) for x in range(4) for y in range(3) if (x+y)%2 != 0 ]\n",
    "pairs"
   ]
  },
  {
   "cell_type": "code",
   "execution_count": 73,
   "metadata": {
    "collapsed": true
   },
   "outputs": [],
   "source": [
    "marks = {\"Quizzes\":{\"Mahesh\":[3,5,7,8],\"Suresh\":[9,4,8,8],\"Uma\":[9,9,7,6]},\"Exams\":{\"Mahesh\":[37],\"Uma\":[36]}}\n"
   ]
  },
  {
   "cell_type": "code",
   "execution_count": 65,
   "metadata": {
    "collapsed": true
   },
   "outputs": [],
   "source": [
    "marks[\"Exams\"][\"Suresh\"] = [44]"
   ]
  },
  {
   "cell_type": "code",
   "execution_count": 66,
   "metadata": {
    "collapsed": false
   },
   "outputs": [
    {
     "data": {
      "text/plain": [
       "{'Exams': {'Mahesh': [37], 'Suresh': [44], 'Uma': [36]},\n",
       " 'Quizzes': {'Mahesh': [3, 5, 7, 8],\n",
       "  'Suresh': [9, 4, 8, 8],\n",
       "  'Uma': [9, 9, 7, 6]}}"
      ]
     },
     "execution_count": 66,
     "metadata": {},
     "output_type": "execute_result"
    }
   ],
   "source": [
    "marks"
   ]
  },
  {
   "cell_type": "code",
   "execution_count": 67,
   "metadata": {
    "collapsed": true
   },
   "outputs": [],
   "source": [
    "d = {}"
   ]
  },
  {
   "cell_type": "code",
   "execution_count": 68,
   "metadata": {
    "collapsed": true
   },
   "outputs": [],
   "source": [
    "d[12] = 5"
   ]
  },
  {
   "cell_type": "code",
   "execution_count": 69,
   "metadata": {
    "collapsed": true
   },
   "outputs": [],
   "source": [
    "d[\"1,2\"] = 5"
   ]
  },
  {
   "cell_type": "code",
   "execution_count": 70,
   "metadata": {
    "collapsed": true
   },
   "outputs": [],
   "source": [
    "d[(1,2)] = 5"
   ]
  },
  {
   "cell_type": "code",
   "execution_count": 71,
   "metadata": {
    "collapsed": false
   },
   "outputs": [
    {
     "ename": "TypeError",
     "evalue": "unhashable type: 'list'",
     "output_type": "error",
     "traceback": [
      "\u001b[0;31m---------------------------------------------------------------------------\u001b[0m",
      "\u001b[0;31mTypeError\u001b[0m                                 Traceback (most recent call last)",
      "\u001b[0;32m<ipython-input-71-5ce8ddbc7ab2>\u001b[0m in \u001b[0;36m<module>\u001b[0;34m()\u001b[0m\n\u001b[0;32m----> 1\u001b[0;31m \u001b[0md\u001b[0m\u001b[1;33m[\u001b[0m\u001b[1;33m[\u001b[0m\u001b[1;36m1\u001b[0m\u001b[1;33m,\u001b[0m\u001b[1;36m2\u001b[0m\u001b[1;33m]\u001b[0m\u001b[1;33m]\u001b[0m \u001b[1;33m=\u001b[0m \u001b[1;36m5\u001b[0m\u001b[1;33m\u001b[0m\u001b[0m\n\u001b[0m",
      "\u001b[0;31mTypeError\u001b[0m: unhashable type: 'list'"
     ]
    }
   ],
   "source": [
    " d[[1,2]] = 5"
   ]
  },
  {
   "cell_type": "code",
   "execution_count": 74,
   "metadata": {
    "collapsed": false
   },
   "outputs": [
    {
     "ename": "KeyError",
     "evalue": "'Suresh'",
     "output_type": "error",
     "traceback": [
      "\u001b[0;31m---------------------------------------------------------------------------\u001b[0m",
      "\u001b[0;31mKeyError\u001b[0m                                  Traceback (most recent call last)",
      "\u001b[0;32m<ipython-input-74-5391e9061082>\u001b[0m in \u001b[0;36m<module>\u001b[0;34m()\u001b[0m\n\u001b[0;32m----> 1\u001b[0;31m \u001b[0mmarks\u001b[0m\u001b[1;33m[\u001b[0m\u001b[1;34m\"Exams\"\u001b[0m\u001b[1;33m]\u001b[0m\u001b[1;33m[\u001b[0m\u001b[1;34m\"Suresh\"\u001b[0m\u001b[1;33m]\u001b[0m\u001b[1;33m[\u001b[0m\u001b[1;36m0\u001b[0m\u001b[1;33m:\u001b[0m\u001b[1;33m]\u001b[0m \u001b[1;33m=\u001b[0m \u001b[1;33m[\u001b[0m\u001b[1;36m44\u001b[0m\u001b[1;33m]\u001b[0m\u001b[1;33m\u001b[0m\u001b[0m\n\u001b[0m",
      "\u001b[0;31mKeyError\u001b[0m: 'Suresh'"
     ]
    }
   ],
   "source": [
    "marks[\"Exams\"][\"Suresh\"][0:] = [44]"
   ]
  },
  {
   "cell_type": "code",
   "execution_count": 2,
   "metadata": {
    "collapsed": false
   },
   "outputs": [],
   "source": [
    "d = {'match1':{'player1':57, 'player2':38}, 'match2':{'player3':9, 'player1':42}, 'match3':{'player2':41, 'player4':63, 'player3':91}}"
   ]
  },
  {
   "cell_type": "code",
   "execution_count": 3,
   "metadata": {
    "collapsed": false
   },
   "outputs": [
    {
     "data": {
      "text/plain": [
       "{'match1': {'player1': 57, 'player2': 38},\n",
       " 'match2': {'player1': 42, 'player3': 9},\n",
       " 'match3': {'player2': 41, 'player3': 91, 'player4': 63}}"
      ]
     },
     "execution_count": 3,
     "metadata": {},
     "output_type": "execute_result"
    }
   ],
   "source": [
    "d"
   ]
  },
  {
   "cell_type": "code",
   "execution_count": 30,
   "metadata": {
    "collapsed": false
   },
   "outputs": [
    {
     "name": "stdout",
     "output_type": "stream",
     "text": [
      "{'player1': 57, 'player2': 38}\n",
      "{'player4': 63, 'player3': 91, 'player2': 41}\n",
      "{'player1': 42, 'player3': 9}\n"
     ]
    }
   ],
   "source": [
    "for i,j in d.items():\n",
    "    print(j)"
   ]
  },
  {
   "cell_type": "code",
   "execution_count": 42,
   "metadata": {
    "collapsed": false
   },
   "outputs": [],
   "source": [
    "def orangecap(d):\n",
    "    a = {}\n",
    "    for i,j in d.items():\n",
    "        for k,l in j.items():\n",
    "            a[k] =0\n",
    "        \n",
    "    for i,j in d.items():\n",
    "        for k,l in j.items():\n",
    "            a[k] += l\n",
    "    t=max(a, key=lambda i: a[i])\n",
    "    return((t,a[t]))"
   ]
  },
  {
   "cell_type": "code",
   "execution_count": 43,
   "metadata": {
    "collapsed": false
   },
   "outputs": [
    {
     "data": {
      "text/plain": [
       "('player3', 100)"
      ]
     },
     "execution_count": 43,
     "metadata": {},
     "output_type": "execute_result"
    }
   ],
   "source": [
    "orangecap({'match1':{'player1':57, 'player2':38}, 'match2':{'player3':9, 'player1':42}, 'match3':{'player2':41, 'player4':63, 'player3':91}})"
   ]
  },
  {
   "cell_type": "code",
   "execution_count": 44,
   "metadata": {
    "collapsed": false
   },
   "outputs": [
    {
     "data": {
      "text/plain": [
       "('Kohli', 120)"
      ]
     },
     "execution_count": 44,
     "metadata": {},
     "output_type": "execute_result"
    }
   ],
   "source": [
    "orangecap({'test1':{'Ashwin':84, 'Kohli':120}, 'test2':{'ashwin':59, 'Pujara':42}})"
   ]
  },
  {
   "cell_type": "code",
   "execution_count": 53,
   "metadata": {
    "collapsed": true
   },
   "outputs": [],
   "source": [
    "p =[(4,3),(3,0)]\n",
    "q=[(-4,3),(2,1)]"
   ]
  },
  {
   "cell_type": "code",
   "execution_count": 62,
   "metadata": {
    "collapsed": false
   },
   "outputs": [
    {
     "name": "stdout",
     "output_type": "stream",
     "text": [
      "[(4, 3), (3, 0)] [(-4, 3), (2, 1)]\n"
     ]
    }
   ],
   "source": [
    "#def addpoly(p,q):\n",
    "for i,j in p,q:\n",
    "    if i[1] == j[1]:\n",
    "        i[0] +=j[0]\n",
    "print(p,q)"
   ]
  },
  {
   "cell_type": "code",
   "execution_count": 73,
   "metadata": {
    "collapsed": false
   },
   "outputs": [],
   "source": [
    "import collections\n",
    "from itertools import product\n",
    "def counter_to_poly(c):\n",
    "    p = [(coeff, exp) for exp, coeff in c.items() if coeff != 0]\n",
    "    # sort by exponents in descending order\n",
    "    p.sort(key = lambda pair: pair[1], reverse = True)\n",
    "    return p\n",
    "  \n",
    "def addpoly(p, q):\n",
    "    r = collections.Counter()\n",
    "\n",
    "    for coeff, exp in (p + q):\n",
    "        r[exp] += coeff\n",
    "\n",
    "    return counter_to_poly(r)\n",
    "def mulpoly(p, q):\n",
    "    r = collections.Counter()\n",
    "\n",
    "    for (c1, e1), (c2, e2) in itertools.product(p, q):\n",
    "        r[e1 + e2] += c1 * c2\n",
    "\n",
    "    return counter_to_poly(r)\n"
   ]
  },
  {
   "cell_type": "code",
   "execution_count": 74,
   "metadata": {
    "collapsed": false
   },
   "outputs": [
    {
     "data": {
      "text/plain": [
       "[(2, 1), (3, 0)]"
      ]
     },
     "execution_count": 74,
     "metadata": {},
     "output_type": "execute_result"
    }
   ],
   "source": [
    "addpoly([(4,3),(3,0)],[(-4,3),(2,1)])"
   ]
  },
  {
   "cell_type": "code",
   "execution_count": 76,
   "metadata": {
    "collapsed": false
   },
   "outputs": [],
   "source": []
  },
  {
   "cell_type": "code",
   "execution_count": 77,
   "metadata": {
    "collapsed": true
   },
   "outputs": [],
   "source": [
    "import collections\n",
    "import itertools \n",
    "def counter_to_poly(c):\n",
    "    p = [(coeff, exp) for exp, coeff in c.items() if coeff != 0]\n",
    "    p.sort(key = lambda pair: pair[1], reverse = True)\n",
    "    return p\n",
    "  \n",
    "def addpoly(p, q):\n",
    "    r = collections.Counter()\n",
    "    for coeff, exp in (p + q):\n",
    "        r[exp] += coeff\n",
    "    return counter_to_poly(r)\n",
    "  \n",
    "def multpoly(p, q):\n",
    "    r = collections.Counter()\n",
    "\n",
    "    for (c1, e1), (c2, e2) in itertools.product(p, q):\n",
    "        r[e1 + e2] += c1 * c2\n",
    "\n",
    "    return counter_to_poly(r)\n"
   ]
  },
  {
   "cell_type": "code",
   "execution_count": 78,
   "metadata": {
    "collapsed": false
   },
   "outputs": [
    {
     "data": {
      "text/plain": [
       "[(2, 1), (3, 0)]"
      ]
     },
     "execution_count": 78,
     "metadata": {},
     "output_type": "execute_result"
    }
   ],
   "source": [
    "addpoly([(4,3),(3,0)],[(-4,3),(2,1)])"
   ]
  },
  {
   "cell_type": "code",
   "execution_count": null,
   "metadata": {
    "collapsed": true
   },
   "outputs": [],
   "source": [
    "print(r)"
   ]
  }
 ],
 "metadata": {
  "anaconda-cloud": {},
  "kernelspec": {
   "display_name": "Python [conda root]",
   "language": "python",
   "name": "conda-root-py"
  },
  "language_info": {
   "codemirror_mode": {
    "name": "ipython",
    "version": 3
   },
   "file_extension": ".py",
   "mimetype": "text/x-python",
   "name": "python",
   "nbconvert_exporter": "python",
   "pygments_lexer": "ipython3",
   "version": "3.5.2"
  }
 },
 "nbformat": 4,
 "nbformat_minor": 1
}
