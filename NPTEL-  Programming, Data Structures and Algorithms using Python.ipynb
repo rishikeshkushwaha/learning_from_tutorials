{
 "cells": [
  {
   "cell_type": "markdown",
   "metadata": {},
   "source": [
    "Programming Assignment 2"
   ]
  },
  {
   "cell_type": "code",
   "execution_count": 1,
   "metadata": {
    "collapsed": true
   },
   "outputs": [],
   "source": [
    "def intreverse(l):\n",
    "    reverse = 0\n",
    "    while l is not  0 :\n",
    "        reverse = reverse * 10\n",
    "        reverse = reverse + int(l %10)\n",
    "        l = int(l / 10)\n",
    "        #print(reverse)\n",
    "    return reverse\n",
    "\n",
    "\n",
    "def matched(s):\n",
    "    t = 0\n",
    "    for c in s:\n",
    "        if c == ')':\n",
    "            t -= 1\n",
    "            if t < 0:\n",
    "                return False\n",
    "        elif c == '(':\n",
    "            t += 1\n",
    "    if t == 0:\n",
    "        return True\n",
    "    else :\n",
    "        return False\n",
    "      \n",
    "\n",
    "def sumprimes(p):\n",
    "    s = 0\n",
    "    for i in p:\n",
    "        if isPrime(i):\n",
    "            s +=i\n",
    "    return s\n",
    "\n",
    "def isPrime(q):\n",
    "    if q < 2 :\n",
    "        return False\n",
    "    elif q ==2:\n",
    "        return True\n",
    "    else:\n",
    "        flag = True\n",
    "        for j in range(2, q):\n",
    "            if (q % j) == 0:\n",
    "                flag =False\n",
    "        return flag"
   ]
  },
  {
   "cell_type": "raw",
   "metadata": {},
   "source": [
    "Programming Assignment 3"
   ]
  },
  {
   "cell_type": "code",
   "execution_count": 2,
   "metadata": {
    "collapsed": false
   },
   "outputs": [],
   "source": [
    "def descending(l):\n",
    "    if len(l)==0:\n",
    "        return True\n",
    "    else:\n",
    "        f = l[0]\n",
    "        for i in l[1:]:\n",
    "            if f>i:\n",
    "                return False\n",
    "            else:\n",
    "                return True\n",
    "            break"
   ]
  },
  {
   "cell_type": "code",
   "execution_count": 3,
   "metadata": {
    "collapsed": false
   },
   "outputs": [
    {
     "data": {
      "text/plain": [
       "True"
      ]
     },
     "execution_count": 3,
     "metadata": {},
     "output_type": "execute_result"
    }
   ],
   "source": [
    "descending([])"
   ]
  },
  {
   "cell_type": "code",
   "execution_count": 4,
   "metadata": {
    "collapsed": false
   },
   "outputs": [
    {
     "data": {
      "text/plain": [
       "True"
      ]
     },
     "execution_count": 4,
     "metadata": {},
     "output_type": "execute_result"
    }
   ],
   "source": [
    "descending([4,4,3])"
   ]
  },
  {
   "cell_type": "code",
   "execution_count": 5,
   "metadata": {
    "collapsed": false
   },
   "outputs": [
    {
     "data": {
      "text/plain": [
       "False"
      ]
     },
     "execution_count": 5,
     "metadata": {},
     "output_type": "execute_result"
    }
   ],
   "source": [
    "descending([19,17,18,7])"
   ]
  },
  {
   "cell_type": "code",
   "execution_count": 6,
   "metadata": {
    "collapsed": true
   },
   "outputs": [],
   "source": [
    "def alternating(l):\n",
    "    for i in range(len(l)-2):\n",
    "        if (l[i] < l[i+1]) and (l[i+1] < l[i+2]):\n",
    "            return False\n",
    "        if (l[i] > l[i+1]) and (l[i+1] > l[i+2]):\n",
    "            return False\n",
    "        if (l[i] == l[i+1]) or (l[i+1] == l[i+2]):\n",
    "            return False\n",
    "    return True"
   ]
  },
  {
   "cell_type": "code",
   "execution_count": 7,
   "metadata": {
    "collapsed": false
   },
   "outputs": [
    {
     "data": {
      "text/plain": [
       "True"
      ]
     },
     "execution_count": 7,
     "metadata": {},
     "output_type": "execute_result"
    }
   ],
   "source": [
    "alternating([1,3,2,3,1,5])"
   ]
  },
  {
   "cell_type": "code",
   "execution_count": 8,
   "metadata": {
    "collapsed": false
   },
   "outputs": [
    {
     "data": {
      "text/plain": [
       "False"
      ]
     },
     "execution_count": 8,
     "metadata": {},
     "output_type": "execute_result"
    }
   ],
   "source": [
    "alternating([3,2,2,1,5])"
   ]
  },
  {
   "cell_type": "code",
   "execution_count": 9,
   "metadata": {
    "collapsed": false
   },
   "outputs": [
    {
     "data": {
      "text/plain": [
       "True"
      ]
     },
     "execution_count": 9,
     "metadata": {},
     "output_type": "execute_result"
    }
   ],
   "source": [
    "alternating([3,2,3,1,5])"
   ]
  },
  {
   "cell_type": "code",
   "execution_count": 10,
   "metadata": {
    "collapsed": false
   },
   "outputs": [
    {
     "data": {
      "text/plain": [
       "False"
      ]
     },
     "execution_count": 10,
     "metadata": {},
     "output_type": "execute_result"
    }
   ],
   "source": [
    "alternating([3,2,1,3,5])"
   ]
  },
  {
   "cell_type": "code",
   "execution_count": 11,
   "metadata": {
    "collapsed": false
   },
   "outputs": [],
   "source": [
    "def matmult(X,Y):\n",
    "    cols, rows = len(Y[0]), len(Y)\n",
    "    resRows = range(len(X))\n",
    "    result = [[0] * cols for i in resRows]\n",
    "    for i in range(len(X)):\n",
    "   # iterate through columns of Y\n",
    "       for j in range(len(Y[0])):\n",
    "       # iterate through rows of Y\n",
    "           for k in range(len(Y)):\n",
    "               result[i][j] += X[i][k] * Y[k][j]\n",
    "    return result"
   ]
  },
  {
   "cell_type": "code",
   "execution_count": 12,
   "metadata": {
    "collapsed": false
   },
   "outputs": [
    {
     "data": {
      "text/plain": [
       "[[1, 2], [3, 4]]"
      ]
     },
     "execution_count": 12,
     "metadata": {},
     "output_type": "execute_result"
    }
   ],
   "source": [
    "matmult([[1,2],[3,4]],[[1,0],[0,1]])"
   ]
  },
  {
   "cell_type": "markdown",
   "metadata": {},
   "source": [
    "Quiz 4 solution"
   ]
  },
  {
   "cell_type": "code",
   "execution_count": 13,
   "metadata": {
    "collapsed": false
   },
   "outputs": [
    {
     "data": {
      "text/plain": [
       "[5]"
      ]
     },
     "execution_count": 13,
     "metadata": {},
     "output_type": "execute_result"
    }
   ],
   "source": [
    "x = [1,2,3,4,5]\n",
    "x[-1:]"
   ]
  },
  {
   "cell_type": "code",
   "execution_count": 14,
   "metadata": {
    "collapsed": false
   },
   "outputs": [
    {
     "data": {
      "text/plain": [
       "[1, 2, 3, 4]"
      ]
     },
     "execution_count": 14,
     "metadata": {},
     "output_type": "execute_result"
    }
   ],
   "source": [
    "x[:-1]"
   ]
  },
  {
   "cell_type": "code",
   "execution_count": 15,
   "metadata": {
    "collapsed": false
   },
   "outputs": [
    {
     "data": {
      "text/plain": [
       "[5, 1, 2, 3, 4]"
      ]
     },
     "execution_count": 15,
     "metadata": {},
     "output_type": "execute_result"
    }
   ],
   "source": [
    "y=x[-1:] + x[:-1]\n",
    "y"
   ]
  },
  {
   "cell_type": "code",
   "execution_count": 16,
   "metadata": {
    "collapsed": true
   },
   "outputs": [],
   "source": [
    "def mystery(l):\n",
    "   if l == []:\n",
    "      return (l)\n",
    "   else:\n",
    "      return (l[-1:] + mystery(l[:-1]))"
   ]
  },
  {
   "cell_type": "code",
   "execution_count": 17,
   "metadata": {
    "collapsed": false
   },
   "outputs": [
    {
     "data": {
      "text/plain": [
       "[5, 8, 7, 2, 3]"
      ]
     },
     "execution_count": 17,
     "metadata": {},
     "output_type": "execute_result"
    }
   ],
   "source": [
    "mystery([3,2,7,8,5])"
   ]
  },
  {
   "cell_type": "code",
   "execution_count": 18,
   "metadata": {
    "collapsed": false
   },
   "outputs": [
    {
     "data": {
      "text/plain": [
       "[(0, 1), (1, 0), (1, 2), (2, 1), (3, 0), (3, 2)]"
      ]
     },
     "execution_count": 18,
     "metadata": {},
     "output_type": "execute_result"
    }
   ],
   "source": [
    "pairs = [ (x,y) for x in range(4) for y in range(3) if (x+y)%2 != 0 ]\n",
    "pairs"
   ]
  },
  {
   "cell_type": "code",
   "execution_count": 19,
   "metadata": {
    "collapsed": true
   },
   "outputs": [],
   "source": [
    "marks = {\"Quizzes\":{\"Mahesh\":[3,5,7,8],\"Suresh\":[9,4,8,8],\"Uma\":[9,9,7,6]},\"Exams\":{\"Mahesh\":[37],\"Uma\":[36]}}\n"
   ]
  },
  {
   "cell_type": "code",
   "execution_count": 20,
   "metadata": {
    "collapsed": true
   },
   "outputs": [],
   "source": [
    "marks[\"Exams\"][\"Suresh\"] = [44]"
   ]
  },
  {
   "cell_type": "code",
   "execution_count": 21,
   "metadata": {
    "collapsed": false
   },
   "outputs": [
    {
     "data": {
      "text/plain": [
       "{'Exams': {'Mahesh': [37], 'Suresh': [44], 'Uma': [36]},\n",
       " 'Quizzes': {'Mahesh': [3, 5, 7, 8],\n",
       "  'Suresh': [9, 4, 8, 8],\n",
       "  'Uma': [9, 9, 7, 6]}}"
      ]
     },
     "execution_count": 21,
     "metadata": {},
     "output_type": "execute_result"
    }
   ],
   "source": [
    "marks"
   ]
  },
  {
   "cell_type": "code",
   "execution_count": 22,
   "metadata": {
    "collapsed": true
   },
   "outputs": [],
   "source": [
    "d = {}"
   ]
  },
  {
   "cell_type": "code",
   "execution_count": 23,
   "metadata": {
    "collapsed": true
   },
   "outputs": [],
   "source": [
    "d[12] = 5"
   ]
  },
  {
   "cell_type": "code",
   "execution_count": 24,
   "metadata": {
    "collapsed": true
   },
   "outputs": [],
   "source": [
    "d[\"1,2\"] = 5"
   ]
  },
  {
   "cell_type": "code",
   "execution_count": 25,
   "metadata": {
    "collapsed": true
   },
   "outputs": [],
   "source": [
    "d[(1,2)] = 5"
   ]
  },
  {
   "cell_type": "code",
   "execution_count": 26,
   "metadata": {
    "collapsed": false
   },
   "outputs": [
    {
     "ename": "TypeError",
     "evalue": "unhashable type: 'list'",
     "output_type": "error",
     "traceback": [
      "\u001b[0;31m---------------------------------------------------------------------------\u001b[0m",
      "\u001b[0;31mTypeError\u001b[0m                                 Traceback (most recent call last)",
      "\u001b[0;32m<ipython-input-26-5ce8ddbc7ab2>\u001b[0m in \u001b[0;36m<module>\u001b[0;34m()\u001b[0m\n\u001b[0;32m----> 1\u001b[0;31m \u001b[0md\u001b[0m\u001b[1;33m[\u001b[0m\u001b[1;33m[\u001b[0m\u001b[1;36m1\u001b[0m\u001b[1;33m,\u001b[0m\u001b[1;36m2\u001b[0m\u001b[1;33m]\u001b[0m\u001b[1;33m]\u001b[0m \u001b[1;33m=\u001b[0m \u001b[1;36m5\u001b[0m\u001b[1;33m\u001b[0m\u001b[0m\n\u001b[0m",
      "\u001b[0;31mTypeError\u001b[0m: unhashable type: 'list'"
     ]
    }
   ],
   "source": [
    " d[[1,2]] = 5"
   ]
  },
  {
   "cell_type": "code",
   "execution_count": 27,
   "metadata": {
    "collapsed": false
   },
   "outputs": [],
   "source": [
    "marks[\"Exams\"][\"Suresh\"][0:] = [44]"
   ]
  },
  {
   "cell_type": "code",
   "execution_count": 28,
   "metadata": {
    "collapsed": false
   },
   "outputs": [],
   "source": [
    "d = {'match1':{'player1':57, 'player2':38}, 'match2':{'player3':9, 'player1':42}, 'match3':{'player2':41, 'player4':63, 'player3':91}}"
   ]
  },
  {
   "cell_type": "code",
   "execution_count": 29,
   "metadata": {
    "collapsed": false
   },
   "outputs": [
    {
     "data": {
      "text/plain": [
       "{'match1': {'player1': 57, 'player2': 38},\n",
       " 'match2': {'player1': 42, 'player3': 9},\n",
       " 'match3': {'player2': 41, 'player3': 91, 'player4': 63}}"
      ]
     },
     "execution_count": 29,
     "metadata": {},
     "output_type": "execute_result"
    }
   ],
   "source": [
    "d"
   ]
  },
  {
   "cell_type": "code",
   "execution_count": 30,
   "metadata": {
    "collapsed": false
   },
   "outputs": [
    {
     "name": "stdout",
     "output_type": "stream",
     "text": [
      "{'player1': 42, 'player3': 9}\n",
      "{'player2': 38, 'player1': 57}\n",
      "{'player2': 41, 'player3': 91, 'player4': 63}\n"
     ]
    }
   ],
   "source": [
    "for i,j in d.items():\n",
    "    print(j)"
   ]
  },
  {
   "cell_type": "code",
   "execution_count": 31,
   "metadata": {
    "collapsed": false
   },
   "outputs": [],
   "source": [
    "def orangecap(d):\n",
    "    a = {}\n",
    "    for i,j in d.items():\n",
    "        for k,l in j.items():\n",
    "            a[k] =0\n",
    "        \n",
    "    for i,j in d.items():\n",
    "        for k,l in j.items():\n",
    "            a[k] += l\n",
    "    t=max(a, key=lambda i: a[i])\n",
    "    return((t,a[t]))"
   ]
  },
  {
   "cell_type": "code",
   "execution_count": 32,
   "metadata": {
    "collapsed": false
   },
   "outputs": [
    {
     "data": {
      "text/plain": [
       "('player3', 100)"
      ]
     },
     "execution_count": 32,
     "metadata": {},
     "output_type": "execute_result"
    }
   ],
   "source": [
    "orangecap({'match1':{'player1':57, 'player2':38}, 'match2':{'player3':9, 'player1':42}, 'match3':{'player2':41, 'player4':63, 'player3':91}})"
   ]
  },
  {
   "cell_type": "code",
   "execution_count": 33,
   "metadata": {
    "collapsed": false
   },
   "outputs": [
    {
     "data": {
      "text/plain": [
       "('Kohli', 120)"
      ]
     },
     "execution_count": 33,
     "metadata": {},
     "output_type": "execute_result"
    }
   ],
   "source": [
    "orangecap({'test1':{'Ashwin':84, 'Kohli':120}, 'test2':{'ashwin':59, 'Pujara':42}})"
   ]
  },
  {
   "cell_type": "code",
   "execution_count": 34,
   "metadata": {
    "collapsed": true
   },
   "outputs": [],
   "source": [
    "p =[(4,3),(3,0)]\n",
    "q=[(-4,3),(2,1)]"
   ]
  },
  {
   "cell_type": "code",
   "execution_count": 35,
   "metadata": {
    "collapsed": false
   },
   "outputs": [
    {
     "name": "stdout",
     "output_type": "stream",
     "text": [
      "[(4, 3), (3, 0)] [(-4, 3), (2, 1)]\n"
     ]
    }
   ],
   "source": [
    "#def addpoly(p,q):\n",
    "for i,j in p,q:\n",
    "    if i[1] == j[1]:\n",
    "        i[0] +=j[0]\n",
    "print(p,q)"
   ]
  },
  {
   "cell_type": "code",
   "execution_count": 36,
   "metadata": {
    "collapsed": false
   },
   "outputs": [],
   "source": [
    "import collections\n",
    "from itertools import product\n",
    "def counter_to_poly(c):\n",
    "    p = [(coeff, exp) for exp, coeff in c.items() if coeff != 0]\n",
    "    # sort by exponents in descending order\n",
    "    p.sort(key = lambda pair: pair[1], reverse = True)\n",
    "    return p\n",
    "  \n",
    "def addpoly(p, q):\n",
    "    r = collections.Counter()\n",
    "\n",
    "    for coeff, exp in (p + q):\n",
    "        r[exp] += coeff\n",
    "\n",
    "    return counter_to_poly(r)\n",
    "def mulpoly(p, q):\n",
    "    r = collections.Counter()\n",
    "\n",
    "    for (c1, e1), (c2, e2) in itertools.product(p, q):\n",
    "        r[e1 + e2] += c1 * c2\n",
    "\n",
    "    return counter_to_poly(r)\n"
   ]
  },
  {
   "cell_type": "code",
   "execution_count": 37,
   "metadata": {
    "collapsed": false
   },
   "outputs": [
    {
     "data": {
      "text/plain": [
       "[(2, 1), (3, 0)]"
      ]
     },
     "execution_count": 37,
     "metadata": {},
     "output_type": "execute_result"
    }
   ],
   "source": [
    "addpoly([(4,3),(3,0)],[(-4,3),(2,1)])"
   ]
  },
  {
   "cell_type": "code",
   "execution_count": null,
   "metadata": {
    "collapsed": false
   },
   "outputs": [],
   "source": []
  },
  {
   "cell_type": "code",
   "execution_count": 61,
   "metadata": {
    "collapsed": true
   },
   "outputs": [],
   "source": [
    "import collections\n",
    "import itertools \n",
    "def counter_to_poly(c):\n",
    "    p = [(coeff, exp) for exp, coeff in c.items() if coeff != 0]\n",
    "    p.sort(key = lambda pair: pair[1], reverse = True)\n",
    "    return p\n",
    "  \n",
    "def addpoly(p, q):\n",
    "    for coeff, exp in (p + q):\n",
    "        r[exp] += coeff\n",
    "    return counter_to_poly(r)\n",
    "  \n",
    "# def multpoly(p, q):\n",
    "#     r = collections.Counter()\n",
    "\n",
    "#     for (c1, e1), (c2, e2) in itertools.product(p, q):\n",
    "#         r[e1 + e2] += c1 * c2\n",
    "\n",
    "#     return counter_to_poly(r)\n"
   ]
  },
  {
   "cell_type": "code",
   "execution_count": 135,
   "metadata": {
    "collapsed": false
   },
   "outputs": [
    {
     "data": {
      "text/plain": [
       "[(1, 3), (2, 1), (3, 0)]"
      ]
     },
     "execution_count": 135,
     "metadata": {},
     "output_type": "execute_result"
    }
   ],
   "source": [
    "addpoly([(4,3),(3,0)],[(-3,3),(2,1)])"
   ]
  },
  {
   "cell_type": "code",
   "execution_count": 40,
   "metadata": {
    "collapsed": false
   },
   "outputs": [
    {
     "name": "stdout",
     "output_type": "stream",
     "text": [
      "{'player2': 0, 'player1': 0, 'player3': 0, 'player4': 0}\n"
     ]
    },
    {
     "data": {
      "text/plain": [
       "100"
      ]
     },
     "execution_count": 40,
     "metadata": {},
     "output_type": "execute_result"
    }
   ],
   "source": [
    "ans ={}\n",
    "for i,j in d.items():\n",
    "    for k,l in j.items():\n",
    "        ans[k] = 0 \n",
    "print(ans)\n",
    "for i,j in d.items():\n",
    "    for k,l in j.items():\n",
    "        ans[k] += l\n",
    "max(ans[k] for k in ans.keys())"
   ]
  },
  {
   "cell_type": "code",
   "execution_count": 62,
   "metadata": {
    "collapsed": false
   },
   "outputs": [],
   "source": [
    "p = [(1,1),(-1,0)]\n",
    "q = [(1,2),(1,1),(1,0)]"
   ]
  },
  {
   "cell_type": "code",
   "execution_count": 141,
   "metadata": {
    "collapsed": false
   },
   "outputs": [],
   "source": [
    "def multpoly(p, q):\n",
    "    l = []\n",
    "    for i in range(len(p)):\n",
    "        for j in range(len(q)):\n",
    "            l.append((p[i][0]*q[j][0],p[i][1]+q[j][1]))\n",
    "#     p = [(coeff, exp) for exp, coeff in c.items() if coeff != 0]\n",
    "\n",
    "    return g"
   ]
  },
  {
   "cell_type": "code",
   "execution_count": 137,
   "metadata": {
    "collapsed": true
   },
   "outputs": [],
   "source": [
    "\n",
    "def addpoly(p1,p2):\n",
    "        for i in range(len(p1)):\n",
    "            for j in p2:\n",
    "                if p1[i][1] == j[1]:\n",
    "                    p1[i] = ((p1[i][0] + j[0]),p1[i][1])\n",
    "                    p2.remove(j)\n",
    "        p3 = p1 + p2\n",
    "        for k in (p3):\n",
    "            if k[0] == 0:\n",
    "                p3.remove(k)\n",
    "        return sorted(p3) \n"
   ]
  },
  {
   "cell_type": "code",
   "execution_count": 179,
   "metadata": {
    "collapsed": false
   },
   "outputs": [
    {
     "data": {
      "text/plain": [
       "[(1, 3), (-1, 0)]"
      ]
     },
     "execution_count": 179,
     "metadata": {},
     "output_type": "execute_result"
    }
   ],
   "source": [
    " multpoly([(1,1),(-1,0)],[(1,2),(1,1),(1,0)])"
   ]
  },
  {
   "cell_type": "code",
   "execution_count": 178,
   "metadata": {
    "collapsed": false
   },
   "outputs": [],
   "source": [
    "def multpoly(p, q):\n",
    "    l = []\n",
    "    for i in range(len(p)):\n",
    "        for j in range(len(q)):\n",
    "            l.append((p[i][0]*q[j][0],p[i][1]+q[j][1]))\n",
    "    d = {}\n",
    "    for i in l:\n",
    "        d[i[1]] = 0\n",
    "    for i in l:\n",
    "        d[i[1]] += i[0]\n",
    "    h=[]\n",
    "    for i,j in d.items():\n",
    "        if j != 0:\n",
    "            h.append((j,i))\n",
    "#     h.sort(key=lambda tup: tup[1])  # sorts in place\n",
    "    return (sorted(h,reverse=True))\n",
    "        "
   ]
  },
  {
   "cell_type": "markdown",
   "metadata": {
    "collapsed": true
   },
   "source": [
    "Week 5 : Error Handling "
   ]
  },
  {
   "cell_type": "code",
   "execution_count": 4,
   "metadata": {
    "collapsed": false
   },
   "outputs": [
    {
     "name": "stdout",
     "output_type": "stream",
     "text": [
      "kohli\n",
      "60\n"
     ]
    }
   ],
   "source": [
    "score ={}\n",
    "b = input()\n",
    "s = input()\n",
    "try:\n",
    "    score[b].append(s)\n",
    "except KeyError:\n",
    "    score[b] =[s]\n",
    "        "
   ]
  },
  {
   "cell_type": "code",
   "execution_count": 5,
   "metadata": {
    "collapsed": false
   },
   "outputs": [
    {
     "data": {
      "text/plain": [
       "'kohli'"
      ]
     },
     "execution_count": 5,
     "metadata": {},
     "output_type": "execute_result"
    }
   ],
   "source": [
    "b"
   ]
  },
  {
   "cell_type": "code",
   "execution_count": 7,
   "metadata": {
    "collapsed": false
   },
   "outputs": [
    {
     "data": {
      "text/plain": [
       "{'kohli': ['60']}"
      ]
     },
     "execution_count": 7,
     "metadata": {},
     "output_type": "execute_result"
    }
   ],
   "source": [
    "score"
   ]
  },
  {
   "cell_type": "markdown",
   "metadata": {},
   "source": [
    "assignment 5"
   ]
  },
  {
   "cell_type": "code",
   "execution_count": 5,
   "metadata": {
    "collapsed": false
   },
   "outputs": [
    {
     "name": "stdout",
     "output_type": "stream",
     "text": [
      "Djokovic:Murray:2-6,6-7,7-6,6-3,6-1\n",
      "Murray:Djokovic:6-3,4-6,6-4,6-3\n",
      "Djokovic:Murray:6-0,7-6,6-7,6-3\n",
      "Murray:Djokovic:6-4,6-4\n",
      "Djokovic:Murray:2-6,6-2,6-0\n",
      "Murray:Djokovic:6-3,4-6,6-3,6-4\n",
      "Djokovic:Murray:7-6,4-6,7-6,2-6,6-2\n",
      "Murray:Djokovic:7-5,7-5\n",
      "Williams:Muguruza:3-6,6-3,6-3\n",
      "\n"
     ]
    }
   ],
   "source": [
    "lines = []\n",
    "while True:\n",
    "    line = input()\n",
    "    if line:\n",
    "        lines.append(line)\n",
    "    else:\n",
    "        break\n",
    "text = '\\n'.join(lines)"
   ]
  },
  {
   "cell_type": "code",
   "execution_count": 6,
   "metadata": {
    "collapsed": false
   },
   "outputs": [
    {
     "name": "stdout",
     "output_type": "stream",
     "text": [
      "['Djokovic:Murray:2-6,6-7,7-6,6-3,6-1', 'Murray:Djokovic:6-3,4-6,6-4,6-3', 'Djokovic:Murray:6-0,7-6,6-7,6-3', 'Murray:Djokovic:6-4,6-4', 'Djokovic:Murray:2-6,6-2,6-0', 'Murray:Djokovic:6-3,4-6,6-3,6-4', 'Djokovic:Murray:7-6,4-6,7-6,2-6,6-2', 'Murray:Djokovic:7-5,7-5', 'Williams:Muguruza:3-6,6-3,6-3']\n"
     ]
    }
   ],
   "source": [
    "print(lines)"
   ]
  },
  {
   "cell_type": "code",
   "execution_count": 113,
   "metadata": {
    "collapsed": false
   },
   "outputs": [
    {
     "name": "stdout",
     "output_type": "stream",
     "text": [
      "[[['Djokovic', 2], ['Murray', 3]], [['Murray', 1], ['Djokovic', 3]], [['Djokovic', 1], ['Murray', 3]], [['Murray', 0], ['Djokovic', 2]], [['Djokovic', 1], ['Murray', 2]], [['Murray', 1], ['Djokovic', 3]], [['Djokovic', 2], ['Murray', 3]], [['Murray', 0], ['Djokovic', 2]], [['Williams', 1], ['Muguruza', 2]]]\n",
      "Djokovic  3  1  13  142  16  143\n",
      "Murray  2  2  16  143  13  142\n",
      "Williams  0  1  2  15  1  12\n",
      "Muguruza  0  0  1  12  2  15\n"
     ]
    }
   ],
   "source": [
    "-"
   ]
  },
  {
   "cell_type": "code",
   "execution_count": 92,
   "metadata": {
    "collapsed": false
   },
   "outputs": [],
   "source": [
    "def five_win_set_count(k):\n",
    "    score = k.split(\",\")\n",
    "    t = (convert_set(score))\n",
    "    count = 0\n",
    "    if t == (3, 1) or t == (3, 0) or t == (3, 2) :\n",
    "        count += 1\n",
    "    return count\n",
    "\n",
    "def three_win_set_count(k):\n",
    "    score = k.split(\",\")\n",
    "    t = (convert_set(score))\n",
    "    count = 0\n",
    "    if t == (2, 1) or t == (2, 0):\n",
    "        count += 1\n",
    "    return count\n",
    "\n",
    "def sets_won(k):\n",
    "    score = k[2].split(\",\")\n",
    "    l, t = [], []\n",
    "    l.append(k[0])\n",
    "    t.append(k[1])\n",
    "    l.append(convert_set_winner(score))\n",
    "    t.append(convert_set_losser(score))\n",
    "    \n",
    "    return list([l,t])\n",
    "\n",
    "def game_won(k):\n",
    "    score = k[2].split(\",\")\n",
    "    l, t = [], []\n",
    "    l.append(k[0])\n",
    "    t.append(k[1])\n",
    "    l.append(convert_game_winner(score))\n",
    "    t.append(convert_game_losser(score))\n",
    "    \n",
    "    return list([l,t])\n",
    "\n",
    "    \n",
    "def convert_set_winner(score):\n",
    "    s = 0\n",
    "    for i in score:\n",
    "        if int(i[0]) > int(i[2]):\n",
    "            s += 1\n",
    "    return s\n",
    "\n",
    "def convert_set_losser(score):\n",
    "    s = 0\n",
    "    for i in score:\n",
    "        if int(i[0]) < int(i[2]):\n",
    "            s += 1\n",
    "    return s\n",
    "\n",
    "def convert_game_winner(score):\n",
    "    s = 0\n",
    "    for i in score:\n",
    "        s += int(i[0])\n",
    "    return s\n",
    "\n",
    "def convert_game_losser(score):\n",
    "    s = 0\n",
    "    for i in score:\n",
    "        s += int(i[2])\n",
    "    return s\n"
   ]
  },
  {
   "cell_type": "code",
   "execution_count": 91,
   "metadata": {
    "collapsed": true
   },
   "outputs": [],
   "source": [
    "def sets_lost(k):\n",
    "    score = k[2].split(\",\")\n",
    "    l, t = [], []\n",
    "    l.append(k[0])\n",
    "    t.append(k[1])\n",
    "    l.append(convert_set_winner1(score))\n",
    "    t.append(convert_set_losser1(score))\n",
    "    return list([l,t])\n",
    "\n",
    "def game_lost(k):\n",
    "    score = k[2].split(\",\")\n",
    "    l, t = [], []\n",
    "    l.append(k[0])\n",
    "    t.append(k[1])\n",
    "    l.append(convert_game_winner1(score))\n",
    "    t.append(convert_game_losser1(score))\n",
    "    \n",
    "    return list([l,t])\n",
    "\n",
    "    \n",
    "def convert_set_winner1(score):\n",
    "    s = 0\n",
    "    for i in score:\n",
    "        if int(i[0]) < int(i[2]):\n",
    "            s += 1\n",
    "    return s\n",
    "\n",
    "def convert_set_losser1(score):\n",
    "    s = 0\n",
    "    for i in score:\n",
    "        if int(i[0]) > int(i[2]):\n",
    "            s += 1\n",
    "    return s\n",
    "\n",
    "def convert_game_winner1(score):\n",
    "    s = 0\n",
    "    for i in score:\n",
    "        s += int(i[2])\n",
    "    return s\n",
    "\n",
    "def convert_game_losser1(score):\n",
    "    s = 0\n",
    "    for i in score:\n",
    "        s += int(i[0])\n",
    "    return s"
   ]
  },
  {
   "cell_type": "code",
   "execution_count": 47,
   "metadata": {
    "collapsed": false
   },
   "outputs": [],
   "source": [
    "def convert_set(score):\n",
    "    s, t = 0, 0\n",
    "    for i in score:\n",
    "        if int(i[0]) > int(i[2]):\n",
    "            s += 1\n",
    "        elif int(i[0]) < int(i[2]):\n",
    "            t += 1\n",
    "        else:\n",
    "            pass\n",
    "    return (s,t)"
   ]
  },
  {
   "cell_type": "code",
   "execution_count": 130,
   "metadata": {
    "collapsed": false
   },
   "outputs": [],
   "source": [
    "d = {'a':[1,2,3,4],'b':[2,3,4,5]}"
   ]
  },
  {
   "cell_type": "code",
   "execution_count": 131,
   "metadata": {
    "collapsed": false
   },
   "outputs": [
    {
     "name": "stdout",
     "output_type": "stream",
     "text": [
      "1\n",
      "2\n",
      "3\n",
      "4\n",
      "2\n",
      "3\n",
      "4\n",
      "5\n"
     ]
    }
   ],
   "source": [
    "for i,j in d.items():\n",
    "    for k in d[i]:\n",
    "        print(k)"
   ]
  },
  {
   "cell_type": "code",
   "execution_count": 132,
   "metadata": {
    "collapsed": false
   },
   "outputs": [
    {
     "name": "stdout",
     "output_type": "stream",
     "text": [
      "{'a': [1, 2, 3, 4], 'b': [2, 3, 4, 5]}\n"
     ]
    }
   ],
   "source": [
    "print(d)"
   ]
  },
  {
   "cell_type": "code",
   "execution_count": 133,
   "metadata": {
    "collapsed": false
   },
   "outputs": [
    {
     "name": "stdout",
     "output_type": "stream",
     "text": [
      "2\n"
     ]
    }
   ],
   "source": [
    "print(d['a'][1])"
   ]
  },
  {
   "cell_type": "code",
   "execution_count": 223,
   "metadata": {
    "collapsed": false
   },
   "outputs": [
    {
     "name": "stdout",
     "output_type": "stream",
     "text": [
      "<class 'list'>\n",
      "['Djokovic:Murray:2-6,6-7,7-6,6-3,6-1']\n",
      "['Murray:Djokovic:6-3,4-6,6-4,6-3']\n",
      "['Djokovic:Murray:6-0,7-6,6-7,6-3']\n",
      "['Murray:Djokovic:6-4,6-4']\n",
      "['Djokovic:Murray:2-6,6-2,6-0']\n",
      "['Murray:Djokovic:6-3,4-6,6-3,6-4']\n",
      "['Djokovic:Murray:7-6,4-6,7-6,2-6,6-2']\n",
      "['Murray:Djokovic:7-5,7-5']\n",
      "['Williams:Muguruza:3-6,6-3,6-3']\n"
     ]
    }
   ],
   "source": [
    "import re\n",
    "print(type(lines))\n",
    "for i in lines:\n",
    "    print(re.split(':,',i))"
   ]
  },
  {
   "cell_type": "code",
   "execution_count": 123,
   "metadata": {
    "collapsed": false
   },
   "outputs": [
    {
     "name": "stdout",
     "output_type": "stream",
     "text": [
      "for l in t:     print(l[0] ,\" \",l[1][0] ,\" \",l[1][1] ,\" \",l[1][2] ,\" \",l[1][3] ,\" \",l[1][4] ,\" \",l[1][5],end=\"\\n\", sep=\"\")   \n",
      "\n"
     ]
    },
    {
     "ename": "IndexError",
     "evalue": "list index out of range",
     "output_type": "error",
     "traceback": [
      "\u001b[0;31m---------------------------------------------------------------------------\u001b[0m",
      "\u001b[0;31mIndexError\u001b[0m                                Traceback (most recent call last)",
      "\u001b[0;32m<ipython-input-123-fbedfaa5ae96>\u001b[0m in \u001b[0;36m<module>\u001b[0;34m()\u001b[0m\n\u001b[1;32m     41\u001b[0m             \u001b[0mthree\u001b[0m \u001b[1;33m+=\u001b[0m \u001b[0mthree_win_set_count\u001b[0m\u001b[1;33m(\u001b[0m\u001b[0mk\u001b[0m\u001b[1;33m[\u001b[0m\u001b[1;36m2\u001b[0m\u001b[1;33m]\u001b[0m\u001b[1;33m)\u001b[0m\u001b[1;33m\u001b[0m\u001b[0m\n\u001b[1;32m     42\u001b[0m         \u001b[0mans\u001b[0m\u001b[1;33m[\u001b[0m\u001b[0mi\u001b[0m\u001b[1;33m]\u001b[0m \u001b[1;33m=\u001b[0m \u001b[1;33m[\u001b[0m \u001b[0mfive\u001b[0m\u001b[1;33m,\u001b[0m \u001b[0mthree\u001b[0m\u001b[1;33m,\u001b[0m \u001b[0mset_w\u001b[0m\u001b[1;33m,\u001b[0m \u001b[0mgame_w\u001b[0m\u001b[1;33m,\u001b[0m \u001b[0mset_l\u001b[0m\u001b[1;33m,\u001b[0m \u001b[0mgame_l\u001b[0m\u001b[1;33m]\u001b[0m\u001b[1;33m\u001b[0m\u001b[0m\n\u001b[0;32m---> 43\u001b[0;31m         \u001b[0mnew\u001b[0m\u001b[1;33m.\u001b[0m\u001b[0mappend\u001b[0m\u001b[1;33m(\u001b[0m\u001b[0msets_won\u001b[0m\u001b[1;33m(\u001b[0m\u001b[0mk\u001b[0m\u001b[1;33m)\u001b[0m\u001b[1;33m)\u001b[0m\u001b[1;33m\u001b[0m\u001b[0m\n\u001b[0m\u001b[1;32m     44\u001b[0m         \u001b[0mnew_game\u001b[0m\u001b[1;33m.\u001b[0m\u001b[0mappend\u001b[0m\u001b[1;33m(\u001b[0m\u001b[0mgame_won\u001b[0m\u001b[1;33m(\u001b[0m\u001b[0mk\u001b[0m\u001b[1;33m)\u001b[0m\u001b[1;33m)\u001b[0m\u001b[1;33m\u001b[0m\u001b[0m\n\u001b[1;32m     45\u001b[0m         \u001b[0mold\u001b[0m\u001b[1;33m.\u001b[0m\u001b[0mappend\u001b[0m\u001b[1;33m(\u001b[0m\u001b[0msets_lost\u001b[0m\u001b[1;33m(\u001b[0m\u001b[0mk\u001b[0m\u001b[1;33m)\u001b[0m\u001b[1;33m)\u001b[0m\u001b[1;33m\u001b[0m\u001b[0m\n",
      "\u001b[0;32m<ipython-input-120-fbedfaa5ae96>\u001b[0m in \u001b[0;36msets_won\u001b[0;34m(k)\u001b[0m\n\u001b[1;32m    104\u001b[0m \u001b[1;33m\u001b[0m\u001b[0m\n\u001b[1;32m    105\u001b[0m \u001b[1;32mdef\u001b[0m \u001b[0msets_won\u001b[0m\u001b[1;33m(\u001b[0m\u001b[0mk\u001b[0m\u001b[1;33m)\u001b[0m\u001b[1;33m:\u001b[0m\u001b[1;33m\u001b[0m\u001b[0m\n\u001b[0;32m--> 106\u001b[0;31m     \u001b[0mscore\u001b[0m \u001b[1;33m=\u001b[0m \u001b[0mk\u001b[0m\u001b[1;33m[\u001b[0m\u001b[1;36m2\u001b[0m\u001b[1;33m]\u001b[0m\u001b[1;33m.\u001b[0m\u001b[0msplit\u001b[0m\u001b[1;33m(\u001b[0m\u001b[1;34m\",\"\u001b[0m\u001b[1;33m)\u001b[0m\u001b[1;33m\u001b[0m\u001b[0m\n\u001b[0m\u001b[1;32m    107\u001b[0m     \u001b[0ml\u001b[0m\u001b[1;33m,\u001b[0m \u001b[0mt\u001b[0m \u001b[1;33m=\u001b[0m \u001b[1;33m[\u001b[0m\u001b[1;33m]\u001b[0m\u001b[1;33m,\u001b[0m \u001b[1;33m[\u001b[0m\u001b[1;33m]\u001b[0m\u001b[1;33m\u001b[0m\u001b[0m\n\u001b[1;32m    108\u001b[0m     \u001b[0ml\u001b[0m\u001b[1;33m.\u001b[0m\u001b[0mappend\u001b[0m\u001b[1;33m(\u001b[0m\u001b[0mk\u001b[0m\u001b[1;33m[\u001b[0m\u001b[1;36m0\u001b[0m\u001b[1;33m]\u001b[0m\u001b[1;33m)\u001b[0m\u001b[1;33m\u001b[0m\u001b[0m\n",
      "\u001b[0;31mIndexError\u001b[0m: list index out of range"
     ]
    }
   ],
   "source": [
    "lines = []\n",
    "while True:\n",
    "    line = input()\n",
    "    if line:\n",
    "        lines.append(line)\n",
    "    else:\n",
    "        break\n",
    "text = '\\n'.join(lines)\n",
    "\n",
    "spilted_lines = []\n",
    "for i in lines:    \n",
    "    spilted_lines.append(i.split(\":\"))\n",
    "#print(spilted_lines)\n",
    "def calculate_table(spilted_lines):\n",
    "    ans = {}\n",
    "    for i in spilted_lines:\n",
    "        key = i[0]\n",
    "        key2 = i[1]\n",
    "        try:\n",
    "            ans[key].append([])\n",
    "            ans[key2].append([])\n",
    "        except KeyError:\n",
    "            ans[key] = []\n",
    "            ans[key2] =[]\n",
    "    for key in ans.keys():\n",
    "        ans[key] =[]\n",
    "    score = []\n",
    "    return ans\n",
    "ans = (calculate_table(spilted_lines))\n",
    "\n",
    "for i in ans.keys():\n",
    "    five, three, = 0, 0 \n",
    "    new,new_game, old, old_game =[],[],[],[]\n",
    "    for k in spilted_lines:\n",
    "        set_w  = 0\n",
    "        game_w=0\n",
    "        set_l=0\n",
    "        game_l=0\n",
    "        if i == k[0]:\n",
    "            five += five_win_set_count(k[2])\n",
    "            three += three_win_set_count(k[2])\n",
    "        ans[i] = [ five, three, set_w, game_w, set_l, game_l]\n",
    "        new.append(sets_won(k))\n",
    "        new_game.append(game_won(k))\n",
    "        old.append(sets_lost(k))\n",
    "        old_game.append(game_lost(k))\n",
    "\n",
    "for i in ans.keys():\n",
    "    s=0\n",
    "    for j in new:\n",
    "        for k in range(len(j)):\n",
    "            #print(j[k])\n",
    "            if i == j[k][0]:\n",
    "                s += j[k][1]\n",
    "    ans[i][2] =s\n",
    "    \n",
    "for i in ans.keys():\n",
    "    s=0\n",
    "    for j in new_game:\n",
    "        for k in range(len(j)):\n",
    "            #print(j[k])\n",
    "            if i == j[k][0]:\n",
    "                s += j[k][1]\n",
    "    ans[i][3] =s \n",
    "\n",
    "for i in ans.keys():\n",
    "    s=0\n",
    "    for j in old:\n",
    "        for k in range(len(j)):\n",
    "            #print(j[k])\n",
    "            if i == j[k][0]:\n",
    "                s += j[k][1]\n",
    "    ans[i][4] =s\n",
    "    \n",
    "for i in ans.keys():\n",
    "    s=0\n",
    "    for j in old_game:\n",
    "        for k in range(len(j)):\n",
    "            #print(j[k])\n",
    "            if i == j[k][0]:\n",
    "                s += j[k][1]\n",
    "    ans[i][5] =s\n",
    "\n",
    "t = (sorted(ans.items(), key=lambda e: e[1], reverse= True))\n",
    "for l in t:\n",
    "    print(l[0] ,\" \",l[1][0] ,\" \",l[1][1] ,\" \",l[1][2] ,\" \",l[1][3] ,\" \",l[1][4] ,\" \",l[1][5],end=\"\\n\", sep=\"\")\n",
    "  \n",
    "    \n",
    "def five_win_set_count(k):\n",
    "    score = k.split(\",\")\n",
    "    t = (convert_set(score))\n",
    "    count = 0\n",
    "    if t == (3, 1) or t == (3, 0) or t == (3, 2) :\n",
    "        count += 1\n",
    "    return count\n",
    "\n",
    "def three_win_set_count(k):\n",
    "    score = k.split(\",\")\n",
    "    t = (convert_set(score))\n",
    "    count = 0\n",
    "    if t == (2, 1) or t == (2, 0):\n",
    "        count += 1\n",
    "    return count\n",
    "\n",
    "def sets_won(k):\n",
    "    score = k[2].split(\",\")\n",
    "    l, t = [], []\n",
    "    l.append(k[0])\n",
    "    t.append(k[1])\n",
    "    l.append(convert_set_winner(score))\n",
    "    t.append(convert_set_losser(score))\n",
    "    \n",
    "    return list([l,t])\n",
    "\n",
    "def game_won(k):\n",
    "    score = k[2].split(\",\")\n",
    "    l, t = [], []\n",
    "    l.append(k[0])\n",
    "    t.append(k[1])\n",
    "    l.append(convert_game_winner(score))\n",
    "    t.append(convert_game_losser(score))\n",
    "    \n",
    "    return list([l,t])\n",
    "\n",
    "    \n",
    "def convert_set_winner(score):\n",
    "    s = 0\n",
    "    for i in score:\n",
    "        if int(i[0]) > int(i[2]):\n",
    "            s += 1\n",
    "    return s\n",
    "\n",
    "def convert_set_losser(score):\n",
    "    s = 0\n",
    "    for i in score:\n",
    "        if int(i[0]) < int(i[2]):\n",
    "            s += 1\n",
    "    return s\n",
    "\n",
    "def convert_game_winner(score):\n",
    "    s = 0\n",
    "    for i in score:\n",
    "        s += int(i[0])\n",
    "    return s\n",
    "\n",
    "def convert_game_losser(score):\n",
    "    s = 0\n",
    "    for i in score:\n",
    "        s += int(i[2])\n",
    "    return s\n",
    "def sets_lost(k):\n",
    "    score = k[2].split(\",\")\n",
    "    l, t = [], []\n",
    "    l.append(k[0])\n",
    "    t.append(k[1])\n",
    "    l.append(convert_set_winner1(score))\n",
    "    t.append(convert_set_losser1(score))\n",
    "    return list([l,t])\n",
    "\n",
    "def game_lost(k):\n",
    "    score = k[2].split(\",\")\n",
    "    l, t = [], []\n",
    "    l.append(k[0])\n",
    "    t.append(k[1])\n",
    "    l.append(convert_game_winner1(score))\n",
    "    t.append(convert_game_losser1(score))\n",
    "    \n",
    "    return list([l,t])\n",
    "\n",
    "    \n",
    "def convert_set_winner1(score):\n",
    "    s = 0\n",
    "    for i in score:\n",
    "        if int(i[0]) < int(i[2]):\n",
    "            s += 1\n",
    "    return s\n",
    "\n",
    "def convert_set_losser1(score):\n",
    "    s = 0\n",
    "    for i in score:\n",
    "        if int(i[0]) > int(i[2]):\n",
    "            s += 1\n",
    "    return s\n",
    "\n",
    "def convert_game_winner1(score):\n",
    "    s = 0\n",
    "    for i in score:\n",
    "        s += int(i[2])\n",
    "    return s\n",
    "\n",
    "def convert_game_losser1(score):\n",
    "    s = 0\n",
    "    for i in score:\n",
    "        s += int(i[0])\n",
    "    return s\n",
    "def convert_set(score):\n",
    "    s, t = 0, 0\n",
    "    for i in score:\n",
    "        if int(i[0]) > int(i[2]):\n",
    "            s += 1\n",
    "        elif int(i[0]) < int(i[2]):\n",
    "            t += 1\n",
    "        else:\n",
    "            pass\n",
    "    return (s,t)"
   ]
  },
  {
   "cell_type": "code",
   "execution_count": 1,
   "metadata": {
    "collapsed": false
   },
   "outputs": [
    {
     "name": "stdout",
     "output_type": "stream",
     "text": [
      "[17, 25, 54, 38, 42, 89, 89, 98, 67]\n"
     ]
    }
   ],
   "source": [
    "import heapq\n",
    "\n",
    "l =  [98,67,89,38,42,54,89,17,25]\n",
    "heapq.heapify(l)\n",
    "print(l)\n",
    "heapq.heappush(l,97)"
   ]
  },
  {
   "cell_type": "code",
   "execution_count": 2,
   "metadata": {
    "collapsed": false
   },
   "outputs": [
    {
     "data": {
      "text/plain": [
       "[17, 25, 54, 38, 42, 89, 89, 98, 67, 97]"
      ]
     },
     "execution_count": 2,
     "metadata": {},
     "output_type": "execute_result"
    }
   ],
   "source": [
    "l"
   ]
  },
  {
   "cell_type": "code",
   "execution_count": 3,
   "metadata": {
    "collapsed": false
   },
   "outputs": [
    {
     "data": {
      "text/plain": [
       "[98, 97, 89, 38, 67, 54, 89, 17, 25, 42]"
      ]
     },
     "execution_count": 3,
     "metadata": {},
     "output_type": "execute_result"
    }
   ],
   "source": [
    "[98,97,89,38,67,54,89,17,25,42]"
   ]
  },
  {
   "cell_type": "raw",
   "metadata": {},
   "source": [
    "class Point:\n",
    "    def __init__(self, a, b):\n",
    "        self.x = a\n",
    "        self.y = b\n",
    "    \n",
    "    def translate(self, deltax, deltay):\n",
    "        self.x += deltax\n",
    "        self.y += deltay\n",
    "    \n",
    "        \n",
    "        "
   ]
  },
  {
   "cell_type": "code",
   "execution_count": null,
   "metadata": {
    "collapsed": true
   },
   "outputs": [],
   "source": [
    "class Node:\n",
    "    def __init__(self, initval = None):\n",
    "        self.value = initval\n",
    "        self.next = None\n",
    "    \n",
    "    def isempty(self):\n",
    "        return(self.value == None)\n",
    "    \n",
    "    "
   ]
  },
  {
   "cell_type": "code",
   "execution_count": null,
   "metadata": {
    "collapsed": false
   },
   "outputs": [],
   "source": [
    "stats = {}   \n",
    "\n",
    "# Read a line of input\n",
    "line = input()\n",
    "while line:\n",
    "  # Keep track of sets/games won and lost in this match\n",
    "  # with respect to winner of the match\n",
    "    (wsets,lsets,wgames,lgames) = (0,0,0,0)\n",
    "\n",
    "  # Extract winner, loser and string of setscores\n",
    "    (winner,loser,setscores) = line.strip().split(':',2)\n",
    "\n",
    "  # Extract sequence of sets from setscores\n",
    "    sets = setscores.split(',')\n",
    "\n",
    "    for set in sets:\n",
    "    # Process each set\n",
    "        (winstr,losestr) = set.split('-')\n",
    "        win = int(winstr)\n",
    "        lose = int(losestr)\n",
    "        wgames = wgames + win\n",
    "        lgames = lgames + lose\n",
    "        if win > lose:\n",
    "          wsets = wsets + 1\n",
    "        else:\n",
    "          lsets = lsets + 1\n",
    "\n",
    "  # Update statistics for each of the players\n",
    "\n",
    "    for player in [winner,loser]:\n",
    "        try:\n",
    "          stats[player]\n",
    "        except KeyError:\n",
    "          stats[player] = [0,0,0,0,0,0]\n",
    "\n",
    "    if wsets >= 3:\n",
    "        stats[winner][0] = stats[winner][0] + 1\n",
    "    else:\n",
    "        stats[winner][1] = stats[winner][1] + 1\n",
    "\n",
    "    stats[winner][2] = stats[winner][2] + wsets\n",
    "    stats[winner][3] = stats[winner][3] + wgames\n",
    "    stats[winner][4] = stats[winner][4] - lsets\n",
    "    stats[winner][5] = stats[winner][5] - lgames\n",
    "\n",
    "    stats[loser][2] = stats[loser][2] + lsets\n",
    "    stats[loser][3] = stats[loser][3] + lgames\n",
    "    stats[loser][4] = stats[loser][4] - wsets\n",
    "    stats[loser][5] = stats[loser][5] - wgames\n",
    "\n",
    "    line = input()\n",
    "\n",
    "# Collect each player's stats as a tuple, name last    \n",
    "statlist = [(stat[0],stat[1],stat[2],stat[3],stat[4],stat[5],name) for name in stats.keys() for stat in [stats[name]]]\n",
    "\n",
    "# Sort the statistics in descending order\n",
    "# Losing games are stored negatively for sorting correctly\n",
    "statlist.sort(reverse = True)\n",
    "\n",
    "# Print\n",
    "for entry in statlist:\n",
    "    print(entry[6],entry[0],entry[1],entry[2],entry[3], -entry[4], -entry[5])\n"
   ]
  },
  {
   "cell_type": "code",
   "execution_count": 1,
   "metadata": {
    "collapsed": false
   },
   "outputs": [
    {
     "name": "stdout",
     "output_type": "stream",
     "text": [
      "How many queens? 4\n",
      "(0, 1) (1, 3) (2, 0) (3, 2) \n",
      "(0, 2) (1, 0) (2, 3) (3, 1) \n"
     ]
    }
   ],
   "source": [
    "board = {}\n",
    "n = int(input(\"How many queens? \"))\n",
    "def initialize(n):\n",
    "  for key in ['queen','row','col','nwtose','swtone']:\n",
    "    board[key] = {}\n",
    "  for i in range(n):\n",
    "    board['queen'][i] = -1\n",
    "    board['row'][i] = 0\n",
    "    board['col'][i] = 0\n",
    "  for i in range(-(n-1),n):\n",
    "    board['nwtose'][i] = 0\n",
    "  for i in range(2*n-1):\n",
    "    board['swtone'][i] = 0\n",
    "\n",
    "def printboard():\n",
    "  for row in sorted(board['queen'].keys()):\n",
    "    print((row,board['queen'][row]),end=\" \")\n",
    "  print(\"\")\n",
    "  \n",
    "def free(i,j):\n",
    "  return(board['row'][i] == 0 and board['col'][j] == 0 and\n",
    "          board['nwtose'][j-i] == 0 and board['swtone'][j+i] == 0)\n",
    "\n",
    "def addqueen(i,j):\n",
    "  board['queen'][i] = j\n",
    "  board['row'][i] = 1\n",
    "  board['col'][j] = 1\n",
    "  board['nwtose'][j-i] = 1\n",
    "  board['swtone'][j+i] = 1\n",
    "\n",
    "def undoqueen(i,j):\n",
    "  board['queen'][i] = -1\n",
    "  board['row'][i] = 0\n",
    "  board['col'][j] = 0\n",
    "  board['nwtose'][j-i] = 0\n",
    "  board['swtone'][j+i] = 0\n",
    "\n",
    "def placequeen(i):\n",
    "  n = len(board['queen'].keys())\n",
    "  for j in range(n):\n",
    "    if free(i,j):\n",
    "      addqueen(i,j)\n",
    "      if i == n-1:\n",
    "        printboard()\n",
    "      else:\n",
    "        extendsoln = placequeen(i+1)\n",
    "      undoqueen(i,j)\n",
    "\n",
    "initialize(n)\n",
    "if placequeen(0):\n",
    "    printboard()"
   ]
  },
  {
   "cell_type": "code",
   "execution_count": 4,
   "metadata": {
    "collapsed": false
   },
   "outputs": [
    {
     "ename": "SyntaxError",
     "evalue": "invalid syntax (<ipython-input-4-8b49a7337a77>, line 12)",
     "output_type": "error",
     "traceback": [
      "\u001b[0;36m  File \u001b[0;32m\"<ipython-input-4-8b49a7337a77>\"\u001b[0;36m, line \u001b[0;32m12\u001b[0m\n\u001b[0;31m    if any cell (p, q) having p+q = x+y is 1\u001b[0m\n\u001b[0m              ^\u001b[0m\n\u001b[0;31mSyntaxError\u001b[0m\u001b[0;31m:\u001b[0m invalid syntax\n"
     ]
    }
   ],
   "source": [
    "n = input()\n",
    "N = int(n)\n",
    "\n",
    "def is_attacked( x, y, board, N):\n",
    "    \n",
    "    if 1  in board[x]:\n",
    "        return True\n",
    "    if 1  in board[y]:\n",
    "        return True\n",
    "\n",
    "    \n",
    "    if for = x+y is 1          \n",
    "        return True\n",
    "    if any cell (p, q) having p-q = x-y is 1\n",
    "        return True\n",
    "    return False\n",
    "\n",
    "\n",
    "def N_Queens( board, N )\n",
    "    if N == 0:                    \n",
    "        return True\n",
    "    for i in range(N):\n",
    "        for j in range(N):\n",
    "            if is_attacked(i, j, board, N):\n",
    "                i +=1\n",
    "            board[i][j] = 1            \n",
    "            if N_Queens( board, N-1):    \n",
    "                return True                  \n",
    "            board[i][j] = 0          \n",
    "    return False\n",
    "\n",
    "print(board)"
   ]
  },
  {
   "cell_type": "raw",
   "metadata": {
    "collapsed": true
   },
   "source": [
    "Dividing Sequence "
   ]
  },
  {
   "cell_type": "code",
   "execution_count": 36,
   "metadata": {
    "collapsed": false
   },
   "outputs": [
    {
     "name": "stdout",
     "output_type": "stream",
     "text": [
      "10\n"
     ]
    }
   ],
   "source": [
    "N = int(input())"
   ]
  },
  {
   "cell_type": "code",
   "execution_count": 37,
   "metadata": {
    "collapsed": false
   },
   "outputs": [
    {
     "name": "stdout",
     "output_type": "stream",
     "text": [
      "2\n",
      "4\n",
      "8\n",
      "16\n",
      "32\n",
      "64\n",
      "128\n",
      "256\n",
      "512\n",
      "1024\n"
     ]
    }
   ],
   "source": [
    "l = []\n",
    "n=N\n",
    "while(N>0):\n",
    "    l.append(int(input()))\n",
    "    N -=1\n",
    "    "
   ]
  },
  {
   "cell_type": "code",
   "execution_count": 38,
   "metadata": {
    "collapsed": false
   },
   "outputs": [],
   "source": [
    "def best(l,i):\n",
    "    if i ==1 :\n",
    "        return 1\n",
    "    else:\n",
    "        mx = 1\n",
    "        for j in range(0,i):\n",
    "            if l[i-1] % l[j] ==0:\n",
    "                mx = max(mx, best(l,j)+1)\n",
    "        return mx"
   ]
  },
  {
   "cell_type": "code",
   "execution_count": 39,
   "metadata": {
    "collapsed": false
   },
   "outputs": [
    {
     "name": "stdout",
     "output_type": "stream",
     "text": [
      "1000 loops, best of 3: 662 µs per loop\n"
     ]
    }
   ],
   "source": [
    "%%timeit\n",
    "best(l,n)"
   ]
  },
  {
   "cell_type": "code",
   "execution_count": 12,
   "metadata": {
    "collapsed": false
   },
   "outputs": [
    {
     "data": {
      "text/plain": [
       "0"
      ]
     },
     "execution_count": 12,
     "metadata": {},
     "output_type": "execute_result"
    }
   ],
   "source": [
    "N"
   ]
  },
  {
   "cell_type": "code",
   "execution_count": 308,
   "metadata": {
    "collapsed": false
   },
   "outputs": [
    {
     "name": "stdout",
     "output_type": "stream",
     "text": [
      "14\n"
     ]
    }
   ],
   "source": [
    "N = int(input())\n",
    "bestStored = [0]*N"
   ]
  },
  {
   "cell_type": "code",
   "execution_count": 302,
   "metadata": {
    "collapsed": false
   },
   "outputs": [
    {
     "data": {
      "text/plain": [
       "[0, 0, 0, 0, 0, 0, 0, 0, 0, 0, 0, 0, 0, 0]"
      ]
     },
     "execution_count": 302,
     "metadata": {},
     "output_type": "execute_result"
    }
   ],
   "source": [
    "bestStored"
   ]
  },
  {
   "cell_type": "code",
   "execution_count": 303,
   "metadata": {
    "collapsed": false
   },
   "outputs": [
    {
     "name": "stdout",
     "output_type": "stream",
     "text": [
      "2\n",
      "11\n",
      "16\n",
      "12\n",
      "36\n",
      "60\n",
      "71\n",
      "17\n",
      "29\n",
      "144\n",
      "288\n",
      "129\n",
      "432\n",
      "993\n"
     ]
    }
   ],
   "source": [
    "l = []\n",
    "n=N\n",
    "while(N>0):\n",
    "    l.append(int(input()))\n",
    "    N -=1"
   ]
  },
  {
   "cell_type": "code",
   "execution_count": 222,
   "metadata": {
    "collapsed": true
   },
   "outputs": [],
   "source": [
    "def bestDP(l,i,bestStored):\n",
    "    if (bestStored[i] != 0):\n",
    "        return bestStored[i]\n",
    "    \n",
    "    if i==0:\n",
    "        bestStored[0]= 1\n",
    "        return 1\n",
    "    else:\n",
    "        mx =1 \n",
    "        for j in range(1,i):\n",
    "            if (l[i] % l[j] == 0):\n",
    "                if bestStored[j] != 0:\n",
    "                    t = bestStored[j]\n",
    "                else:\n",
    "                    t = bestDP(l,j,bestStored)\n",
    "                mx = max(mx,t+1)\n",
    "        bestStored[i-1]= mx\n",
    "        print(bestStored)\n",
    "        return mx"
   ]
  },
  {
   "cell_type": "code",
   "execution_count": 307,
   "metadata": {
    "collapsed": false
   },
   "outputs": [],
   "source": [
    "l=[2, 11, 16, 12, 36, 60, 71, 17, 29, 144, 288, 129, 432, 993]"
   ]
  },
  {
   "cell_type": "code",
   "execution_count": 214,
   "metadata": {
    "collapsed": false
   },
   "outputs": [
    {
     "name": "stdout",
     "output_type": "stream",
     "text": [
      "100000 loops, best of 3: 2.63 µs per loop\n"
     ]
    }
   ],
   "source": [
    "%%timeit\n",
    "bestDP(l,n-1,bestStored)"
   ]
  },
  {
   "cell_type": "code",
   "execution_count": 300,
   "metadata": {
    "collapsed": false
   },
   "outputs": [
    {
     "data": {
      "text/plain": [
       "[2, 11, 16, 12, 36, 60, 71, 17, 29, 144, 288, 129, 432, 993]"
      ]
     },
     "execution_count": 300,
     "metadata": {},
     "output_type": "execute_result"
    }
   ],
   "source": [
    "l"
   ]
  },
  {
   "cell_type": "code",
   "execution_count": 310,
   "metadata": {
    "collapsed": false
   },
   "outputs": [
    {
     "data": {
      "text/plain": [
       "[1, 1, 2, 2, 3, 3, 1, 1, 1, 4, 5, 1, 5, 1]"
      ]
     },
     "execution_count": 310,
     "metadata": {},
     "output_type": "execute_result"
    }
   ],
   "source": [
    "bestStored"
   ]
  },
  {
   "cell_type": "code",
   "execution_count": 304,
   "metadata": {
    "collapsed": false
   },
   "outputs": [],
   "source": [
    "def bestDP1(l,i,SB):\n",
    "    SB[0]=1\n",
    "    for i in range(n):\n",
    "        mx = 1\n",
    "        for j in range(i):\n",
    "            if l[i] % l[j] ==0:\n",
    "                mx = max(mx, (SB[j] + 1))\n",
    "        SB[i]=mx\n",
    "    return(max(SB))    "
   ]
  },
  {
   "cell_type": "code",
   "execution_count": 309,
   "metadata": {
    "collapsed": false
   },
   "outputs": [
    {
     "name": "stdout",
     "output_type": "stream",
     "text": [
      "10000 loops, best of 3: 28 µs per loop\n"
     ]
    }
   ],
   "source": [
    "%%timeit\n",
    "bestDP1(l,n,bestStored)"
   ]
  },
  {
   "cell_type": "code",
   "execution_count": null,
   "metadata": {
    "collapsed": true
   },
   "outputs": [],
   "source": []
  }
 ],
 "metadata": {
  "anaconda-cloud": {},
  "kernelspec": {
   "display_name": "Python [conda root]",
   "language": "python",
   "name": "conda-root-py"
  },
  "language_info": {
   "codemirror_mode": {
    "name": "ipython",
    "version": 3
   },
   "file_extension": ".py",
   "mimetype": "text/x-python",
   "name": "python",
   "nbconvert_exporter": "python",
   "pygments_lexer": "ipython3",
   "version": "3.5.2"
  }
 },
 "nbformat": 4,
 "nbformat_minor": 1
}
