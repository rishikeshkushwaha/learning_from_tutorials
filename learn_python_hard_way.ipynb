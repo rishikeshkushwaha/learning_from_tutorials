{
 "cells": [
  {
   "cell_type": "code",
   "execution_count": 11,
   "metadata": {
    "collapsed": true
   },
   "outputs": [],
   "source": [
    "my_name ='Rishikesh'"
   ]
  },
  {
   "cell_type": "code",
   "execution_count": 3,
   "metadata": {
    "collapsed": true
   },
   "outputs": [],
   "source": [
    "my_age = 26"
   ]
  },
  {
   "cell_type": "code",
   "execution_count": 4,
   "metadata": {
    "collapsed": true
   },
   "outputs": [],
   "source": [
    "my_height = 165 #cms"
   ]
  },
  {
   "cell_type": "code",
   "execution_count": 5,
   "metadata": {
    "collapsed": true
   },
   "outputs": [],
   "source": [
    "my_eyes = 'black'"
   ]
  },
  {
   "cell_type": "code",
   "execution_count": 8,
   "metadata": {
    "collapsed": false
   },
   "outputs": [
    {
     "name": "stdout",
     "output_type": "stream",
     "text": [
      "If I add 26 and 165 then I get 191\n"
     ]
    }
   ],
   "source": [
    "print(\"If I add %d and %d then I get %d\"%(my_age, my_height,my_age+my_height))"
   ]
  },
  {
   "cell_type": "code",
   "execution_count": 9,
   "metadata": {
    "collapsed": false
   },
   "outputs": [
    {
     "name": "stdout",
     "output_type": "stream",
     "text": [
      "My name is Rishikesh.\n"
     ]
    }
   ],
   "source": [
    "print(\"My name is %s.\" %my_name)"
   ]
  },
  {
   "cell_type": "code",
   "execution_count": 19,
   "metadata": {
    "collapsed": false
   },
   "outputs": [
    {
     "name": "stdout",
     "output_type": "stream",
     "text": [
      "%r can be used for anything 'Rishikesh' 26.\n"
     ]
    }
   ],
   "source": [
    "print(\"%%r can be used for anything %r %r.\" %(my_name,my_age))"
   ]
  },
  {
   "cell_type": "code",
   "execution_count": 20,
   "metadata": {
    "collapsed": false
   },
   "outputs": [
    {
     "name": "stdout",
     "output_type": "stream",
     "text": [
      "..........\n"
     ]
    }
   ],
   "source": [
    "print(\".\"*10)"
   ]
  },
  {
   "cell_type": "code",
   "execution_count": 22,
   "metadata": {
    "collapsed": false
   },
   "outputs": [
    {
     "name": "stdout",
     "output_type": "stream",
     "text": [
      "1 2 3\n",
      "'This' 'is' 'notes from learn python the hard way'\n",
      "True True False\n"
     ]
    }
   ],
   "source": [
    "formatter = \"%r %r %r\"\n",
    "\n",
    "print(formatter %(1,2,3))\n",
    "print(formatter %(\"This\",'is','notes from learn python the hard way'))\n",
    "print(formatter %(True,True,False))"
   ]
  },
  {
   "cell_type": "markdown",
   "metadata": {},
   "source": [
    "while True:\n",
    "    for i in [\"/\",\"-\",\"|\",\"\\\\\",\"|\"]:\n",
    "        print(\"%s\" %i,)"
   ]
  },
  {
   "cell_type": "code",
   "execution_count": 3,
   "metadata": {
    "collapsed": false
   },
   "outputs": [
    {
     "name": "stdout",
     "output_type": "stream",
     "text": [
      "How old are you?\n",
      "13\n",
      "13\n"
     ]
    },
    {
     "data": {
      "text/plain": [
       "str"
      ]
     },
     "execution_count": 3,
     "metadata": {},
     "output_type": "execute_result"
    }
   ],
   "source": [
    "print(\"How old are you?\")\n",
    "age = input()\n",
    "print(age)\n",
    "type(age)"
   ]
  },
  {
   "cell_type": "code",
   "execution_count": 6,
   "metadata": {
    "collapsed": false
   },
   "outputs": [
    {
     "name": "stdout",
     "output_type": "stream",
     "text": [
      "The script is called :  C:\\Users\\Rishu.DON-PC\\Anaconda3\\lib\\site-packages\\ipykernel\\__main__.py\n",
      " Your first var is :  -f\n",
      " Ur second var is :  C:\\Users\\Rishu.DON-PC\\AppData\\Roaming\\jupyter\\runtime\\kernel-ff86d2ea-7a02-42dd-9c2f-647457323d2e.json\n"
     ]
    }
   ],
   "source": [
    "from sys import argv\n",
    "\n",
    "test, first, second, = argv\n",
    "print(\"The script is called : \", test)\n",
    "print(\" Your first var is : \", first)\n",
    "print(\" Ur second var is : \", second)\n"
   ]
  },
  {
   "cell_type": "raw",
   "metadata": {
    "collapsed": true
   },
   "source": [
    "from sys import argv\n",
    "\n",
    "script, filename = argv\n",
    "\n",
    "txt = open(filename)\n",
    "\n",
    "print(\"Here's your file %r:\" %filename)\n",
    "print(txt.read())"
   ]
  },
  {
   "cell_type": "code",
   "execution_count": 12,
   "metadata": {
    "collapsed": false
   },
   "outputs": [
    {
     "name": "stdout",
     "output_type": "stream",
     "text": [
      "arg1: 'Rishi', arg2: 'Kesh'\n",
      "arg1: 'Rishikesh', arg2: 'Kushwaha'\n",
      "arg1: 'Rishi'\n"
     ]
    }
   ],
   "source": [
    "def print_two(*args):\n",
    "    arg1, arg2 = args\n",
    "    print(\"arg1: %r, arg2: %r\" %(arg1, arg2))\n",
    "\n",
    "def print_two_again(arg1, arg2):\n",
    "    print(\"arg1: %r, arg2: %r\" %(arg1, arg2))\n",
    "\n",
    "def print_one(arg1):\n",
    "    print(\"arg1: %r\" %arg1)\n",
    "\n",
    "print_two(\"Rishi\",\"Kesh\")\n",
    "print_two_again(\"Rishikesh\",\"Kushwaha\")\n",
    "print_one(\"Rishi\")"
   ]
  },
  {
   "cell_type": "code",
   "execution_count": null,
   "metadata": {
    "collapsed": true
   },
   "outputs": [],
   "source": []
  },
  {
   "cell_type": "code",
   "execution_count": null,
   "metadata": {
    "collapsed": true
   },
   "outputs": [],
   "source": []
  }
 ],
 "metadata": {
  "kernelspec": {
   "display_name": "Python [conda root]",
   "language": "python",
   "name": "conda-root-py"
  },
  "language_info": {
   "codemirror_mode": {
    "name": "ipython",
    "version": 3
   },
   "file_extension": ".py",
   "mimetype": "text/x-python",
   "name": "python",
   "nbconvert_exporter": "python",
   "pygments_lexer": "ipython3",
   "version": "3.5.2"
  }
 },
 "nbformat": 4,
 "nbformat_minor": 1
}
